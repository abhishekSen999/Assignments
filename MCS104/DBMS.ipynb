{
 "cells": [
  {
   "cell_type": "markdown",
   "metadata": {},
   "source": [
    "## Assignment:\n",
    "### Abhishek Sen Roll : 03\n",
    "#### 1)finding closure\n",
    "#### 2)finding all the candidate keys\n",
    "#### 3)finding all the candidate keys\n",
    "#### 4)finding minimal cover of functional dependancies\n",
    "#### 5)checking normal forms"
   ]
  },
  {
   "cell_type": "markdown",
   "metadata": {},
   "source": [
    "here each functional dependancy is considered as a list: <br>\n",
    "AB -> C  =>    [\"AB\",\"C\"]<br>\n",
    "the array FD[][] is a 2dimentional array containing all the Functional Dependancies:<br>\n",
    "AB->C    <br>\n",
    "B->D   <br>\n",
    "equivalent FD array :-<br>\n",
    "[[\"AB\",\"C\"],[\"B\",\"D\"]]\n",
    "\n",
    "\n"
   ]
  },
  {
   "cell_type": "code",
   "execution_count": 1,
   "metadata": {},
   "outputs": [],
   "source": [
    "#closure\n",
    "def closure(attributes,FD):\n",
    "    closure_set=\"\"\n",
    "    l=len(FD)\n",
    "       \n",
    "    #the closure will always contain the attribute itself\n",
    "    closure_set+=attributes\n",
    "    \n",
    "    len_bfr,len_after=0,0\n",
    "    i=0\n",
    "    \n",
    "    while(True):\n",
    "        len_bfr=len(closure_set)\n",
    "        #going over the Functional Dependancies multiple number of times till a complete execution does not add \n",
    "        #anything new to the set\n",
    "        for i in range(l):\n",
    "\n",
    "            satisfy=1\n",
    "            #going through all the LHS components of the the functional dependancy in consideration \n",
    "            for j in FD[i][0]:\n",
    "                #if any LHS attribute of the functional dependancy is absent\n",
    "                if closure_set.find(j)<0:\n",
    "                    satisfy=0\n",
    "            if satisfy==1:\n",
    "                closure_set+=FD[i][1]\n",
    "\n",
    "            #removing redundant elements by breaking into a set and rejoining\n",
    "            closure_set=\"\".join(set(closure_set))\n",
    "\n",
    "            \n",
    "            \n",
    "        len_after=len(closure_set)\n",
    "        if(len_bfr== len_after): break\n",
    "        \n",
    "    return closure_set\n",
    "        \n",
    "        \n",
    "        \n",
    "    "
   ]
  },
  {
   "cell_type": "code",
   "execution_count": 2,
   "metadata": {},
   "outputs": [
    {
     "name": "stdout",
     "output_type": "stream",
     "text": [
      "CEHFG\n"
     ]
    }
   ],
   "source": [
    "FD=[[\"A\",\"BC\"],[\"AB\",\"DE\"],[\"E\",\"FG\"],[\"CG\",\"H\"]]\n",
    "attribute=\"EC\"\n",
    "setOfAttributes=\"ABCDEFGH\"\n",
    "\n",
    "print(closure(attribute,FD))"
   ]
  },
  {
   "cell_type": "code",
   "execution_count": 3,
   "metadata": {},
   "outputs": [],
   "source": [
    "import itertools\n",
    "def candidate_key(FD,set_of_attributes):\n",
    "    #finding out the attributes which are not in RHS by initializing and subtracting one FD by one \n",
    "    attributes_not_present_in_RHS = set_of_attributes\n",
    "    \n",
    "    #set subtracting for removing RHS attributes\n",
    "    for i in FD:\n",
    "        attributes_not_present_in_RHS=\"\".join(set(attributes_not_present_in_RHS)-set(i[1]))\n",
    "    \n",
    "    candidate_keys = []\n",
    "    \n",
    "    \n",
    "    attributes_in_RHS=\"\".join(set(set_of_attributes)-set(attributes_not_present_in_RHS))\n",
    "    \n",
    "    #as the attribute which is not in RHS will always be part of the candidate key\n",
    "    key=attributes_not_present_in_RHS\n",
    "    \n",
    "    #if those attribute which are not in RHS form the candidate key then no other candidate key is possible\n",
    "    if set(closure(key,FD))==set(set_of_attributes):\n",
    "        candidate_keys.append(key)\n",
    "        return candidate_keys #as no other candidate key is present\n",
    "    \n",
    "    \n",
    "    for i in range(len(attributes_in_RHS)):\n",
    "        \n",
    "        #finding out combinations of all lengths one by one and checking\n",
    "        combinations=[\"\".join(i) for i in list(itertools.combinations(attributes_in_RHS,i))]\n",
    "        \n",
    "        \n",
    "        for j in combinations:\n",
    "            key=attributes_not_present_in_RHS+j\n",
    "            \n",
    "            #removing redundant elements\n",
    "            key=\"\".join(set(key))\n",
    "            #checking if key is super key\n",
    "            if set(closure(key,FD))==set(set_of_attributes):\n",
    "                flag_candidate_key=1\n",
    "                #checking if the candidate keys already found is a subset of the present key(then the present key is a superkey not candidate key)\n",
    "                for ky in candidate_keys:\n",
    "                    if set(ky).issubset(set(key)) :\n",
    "                        flag_candidate_key=0\n",
    "                \n",
    "                if(flag_candidate_key==1):\n",
    "                    candidate_keys.append(key)\n",
    "                    \n",
    "    return candidate_keys"
   ]
  },
  {
   "cell_type": "code",
   "execution_count": 4,
   "metadata": {},
   "outputs": [
    {
     "name": "stdout",
     "output_type": "stream",
     "text": [
      "['A', 'E', 'BC', 'CD']\n"
     ]
    }
   ],
   "source": [
    "#testing\n",
    "#FD=[[\"AB\",\"BC\"],[\"AB\",\"DE\"],[\"E\",\"FG\"],[\"CG\",\"H\"]]\n",
    "#FD=[[\"AB\",\"C\"],[\"C\",\"A\"]]\n",
    "FD=[[\"A\",\"BC\"],[\"CD\",\"E\"],[\"B\",\"D\"],[\"E\",\"A\"]]\n",
    "attribute=\"E\"\n",
    "setOfAttributes=\"ABCDE\"\n",
    "#setOfAttributes=\"ABC\"\n",
    "print(candidate_key(FD,setOfAttributes))"
   ]
  },
  {
   "cell_type": "code",
   "execution_count": 5,
   "metadata": {},
   "outputs": [],
   "source": [
    "def equivalent_functional_dependencies(FD_1,FD_2):\n",
    "    \n",
    "    #checking if FD1 subset of FD2\n",
    "    FD1_C_FD2=1\n",
    "    for i in range(len(FD_1)):\n",
    "        #checking closure of each Functional dependancy in FD1 with respect of FD2\n",
    "        closure_set=closure(FD_1[i][0],FD_2)\n",
    "        if not set(FD_1[i][1]).issubset(set(closure_set)):\n",
    "            FD1_C_FD2=0\n",
    "            break\n",
    "            \n",
    "    #checking is FD2 is candidate key is subset of FD1\n",
    "    FD2_C_FD1=1\n",
    "    for i in range(len(FD_2)):\n",
    "        #checking closure of each Functional dependancy in FD2 with respect of FD1\n",
    "        closure_set=closure(FD_2[i][0],FD_1)\n",
    "        if not set(FD_2[i][1]).issubset(set(closure_set)):\n",
    "            FD2_C_FD1=0\n",
    "            break\n",
    "            \n",
    "    if FD2_C_FD1==1 and FD1_C_FD2==1:\n",
    "        return True\n",
    "    else :\n",
    "        return False\n",
    "    \n",
    "    "
   ]
  },
  {
   "cell_type": "code",
   "execution_count": null,
   "metadata": {},
   "outputs": [],
   "source": []
  },
  {
   "cell_type": "code",
   "execution_count": 6,
   "metadata": {},
   "outputs": [],
   "source": [
    "def canonical_cover(FD):\n",
    "    #step1 producing singleton rhs\n",
    "    singleton_RHS=[]\n",
    "    for i in range (len(FD)):\n",
    "        for j in FD[i][1]:\n",
    "            singleton_RHS.append([FD[i][0],j])\n",
    "         \n",
    "    #step2 removing redundant FDs\n",
    "    i=0\n",
    "    while(i<len(singleton_RHS)):\n",
    "        #poping each functional dependancy\n",
    "        fd=singleton_RHS.pop(i)\n",
    "        #checking closure without that functional dependancy\n",
    "        closure_set=closure(fd[0],singleton_RHS)\n",
    "        if(not set(fd[1]).issubset(set(closure_set))):\n",
    "            singleton_RHS.insert(i,fd)\n",
    "            i+=1\n",
    "    \n",
    "    \n",
    "    return singleton_RHS"
   ]
  },
  {
   "cell_type": "code",
   "execution_count": 7,
   "metadata": {},
   "outputs": [
    {
     "name": "stdout",
     "output_type": "stream",
     "text": [
      "[['X', 'W'], ['WZ', 'Y'], ['Y', 'X'], ['Y', 'Z']]\n"
     ]
    }
   ],
   "source": [
    "#testing\n",
    "print(canonical_cover([[\"X\",\"W\"],[\"WZ\",\"XY\"],[\"Y\",\"WXZ\"]]))"
   ]
  },
  {
   "cell_type": "code",
   "execution_count": 8,
   "metadata": {},
   "outputs": [],
   "source": [
    "#if attribute is a proper subset of any of the candidate keys\n",
    "def is_prime_attribute(attribute,candidate_keys):\n",
    "    for ck in candidate_keys:\n",
    "        if set(attribute).issubset(set(ck)) and set(attribute)!=set(ck):\n",
    "            return True\n",
    "    return False\n",
    "\n",
    "\n",
    "def is_super_key(superkey,candidate_keys):\n",
    "    for ck in candidate_keys:\n",
    "        if set(ck).issubset(set(superkey)):\n",
    "            return True\n",
    "    return False"
   ]
  },
  {
   "cell_type": "code",
   "execution_count": 9,
   "metadata": {},
   "outputs": [
    {
     "name": "stdout",
     "output_type": "stream",
     "text": [
      "True\n"
     ]
    }
   ],
   "source": [
    "#testing\n",
    "FD=[[\"AB\",\"BC\"],[\"AB\",\"DE\"],[\"E\",\"FG\"],[\"CG\",\"H\"]]\n",
    "#FD=[[\"AB\",\"C\"],[\"C\",\"A\"]]\n",
    "attribute=\"B\"\n",
    "set_of_attributes=\"ABCDEFGH\"\n",
    "#setOfAttributes=\"ABC\"\n",
    "cks=candidate_key(FD,set_of_attributes)\n",
    "print(is_prime_attribute(attribute,cks))"
   ]
  },
  {
   "cell_type": "code",
   "execution_count": 10,
   "metadata": {},
   "outputs": [],
   "source": [
    "#checking if FDs are in 2NF\n",
    "def two_nf(FD,set_of_attributes):\n",
    "    #finding set of candidate keys\n",
    "    candidate_keys=candidate_key(FD,set_of_attributes)\n",
    "    for fd in FD:\n",
    "        #checking if partial dependancy is present (LHS is prime)(RHS is not prime) \n",
    "        if is_prime_attribute(fd[0],candidate_keys) and not is_prime_attribute(fd[1],candidate_keys):\n",
    "            return False\n",
    "        \n",
    "    print(\"two_nf\")\n",
    "    return True"
   ]
  },
  {
   "cell_type": "code",
   "execution_count": 11,
   "metadata": {},
   "outputs": [],
   "source": [
    "#checking if FDs are in 3NF\n",
    "def three_nf(FD,set_of_attributes):\n",
    "    #FDs has to be in second normal form\n",
    "    if not two_nf(FD,set_of_attributes):\n",
    "        return False\n",
    "    #finding set of candidate keys\n",
    "    candidate_keys=candidate_key(FD,set_of_attributes)\n",
    "    for fd in FD:\n",
    "        #LHS has to be super key or RHS has to be prime attribute\n",
    "        if not(is_super_key(fd[0],candidate_keys)  or is_prime_attribute(fd[1],candidate_keys) ):\n",
    "            return False\n",
    "    print(\"three_nf\")\n",
    "    return True"
   ]
  },
  {
   "cell_type": "code",
   "execution_count": 12,
   "metadata": {},
   "outputs": [],
   "source": [
    "#checking if FDs are in BCNF\n",
    "def bcnf(FD,set_of_attributes):\n",
    "    #FDs need to be in 3NF\n",
    "    if not three_nf(FD,set_of_attributes):\n",
    "        return False\n",
    "    candidate_keys=candidate_key(FD,set_of_attributes)\n",
    "    for fd in FD:\n",
    "        #LHS fas to be super key \n",
    "        if not(is_super_key(fd[0],candidate_keys)):\n",
    "            return False\n",
    "    print(\"bcnf\")\n",
    "    return True"
   ]
  },
  {
   "cell_type": "code",
   "execution_count": null,
   "metadata": {},
   "outputs": [],
   "source": []
  },
  {
   "cell_type": "code",
   "execution_count": 14,
   "metadata": {},
   "outputs": [
    {
     "name": "stdout",
     "output_type": "stream",
     "text": [
      "enter the set of attributes without space: ACDEH\n",
      "enter the number of functional dependancies:  4\n",
      "Enter the FDs in the form - LHS->RHS  (no spaces)\n",
      "A->C\n",
      "AC->D\n",
      "E->AD\n",
      "E->H\n",
      "enter attribute whose closure has to be found: A\n",
      "closure ACD\n",
      "two_nf\n",
      "highest normal form(all the normal forms will be printed as they will get checked) False\n",
      "canonical cover [['A', 'C'], ['AC', 'D'], ['E', 'A'], ['E', 'H']]\n",
      "enter the number of functional dependancies(for equivalence checking):  2\n",
      "Enter the FDs in the form - LHS->RHS  (no spaces): \n",
      "A->CD\n",
      "E->AH\n",
      "the FDs are equivalent\n"
     ]
    }
   ],
   "source": [
    "#RUN code from here(run all cells above before executing this)\n",
    "set_of_attributes=input(\"enter the set of attributes without space: \")\n",
    "n=int(input(\"enter the number of functional dependancies:  \"))\n",
    "print(\"Enter the FDs in the form - LHS->RHS  (no spaces)\")\n",
    "FD=[]\n",
    "for i in range(n):\n",
    "    s=input()\n",
    "    fd=[s[0:s.find('-')],s[s.find('>')+1:]]\n",
    "    FD.append(fd)\n",
    "    \n",
    "attribute=input(\"enter attribute whose closure has to be found: \")\n",
    "print(\"closure\",closure(attribute,FD))\n",
    "print(\"highest normal form(all the normal forms will be printed as they will get checked)\",bcnf(FD,set_of_attributes))\n",
    "print(\"canonical cover\",canonical_cover(FD))\n",
    "\n",
    "n1=int(input(\"enter the number of functional dependancies(for equivalence checking):  \"))\n",
    "print(\"Enter the FDs in the form - LHS->RHS  (no spaces): \")\n",
    "\n",
    "\n",
    "\n",
    "FD1=[]\n",
    "for i in range(n1):\n",
    "    s=input()\n",
    "    fd=[s[0:s.find('-')],s[s.find('>')+1:]]\n",
    "    FD1.append(fd)\n",
    "    \n",
    "if(equivalent_functional_dependencies(FD,FD1)):\n",
    "    print(\"the FDs are equivalent\")\n",
    "else:\n",
    "    print(\"the FDs are not equivalent\")\n"
   ]
  },
  {
   "cell_type": "code",
   "execution_count": null,
   "metadata": {},
   "outputs": [],
   "source": []
  },
  {
   "cell_type": "code",
   "execution_count": null,
   "metadata": {},
   "outputs": [],
   "source": []
  },
  {
   "cell_type": "code",
   "execution_count": null,
   "metadata": {},
   "outputs": [],
   "source": []
  },
  {
   "cell_type": "code",
   "execution_count": null,
   "metadata": {},
   "outputs": [],
   "source": []
  },
  {
   "cell_type": "code",
   "execution_count": null,
   "metadata": {},
   "outputs": [],
   "source": []
  },
  {
   "cell_type": "code",
   "execution_count": 249,
   "metadata": {},
   "outputs": [
    {
     "name": "stdout",
     "output_type": "stream",
     "text": [
      "['A', 'E', 'CD']\n",
      "['A', 'E', 'CD']\n",
      "two_nf\n",
      "three_nf\n",
      "bcnf\n",
      "True\n"
     ]
    }
   ],
   "source": [
    "FD=[[\"A\",\"BC\"],[\"CD\",\"E\"],[\"AB\",\"D\"],[\"E\",\"A\"]]\n",
    "superkey=\"CDB\"\n",
    "set_of_attributes=\"ABCDE\"\n",
    "cks=candidate_key(FD,set_of_attributes)\n",
    "print(cks)\n",
    "\n",
    "print(bcnf(FD,set_of_attributes))"
   ]
  },
  {
   "cell_type": "code",
   "execution_count": null,
   "metadata": {},
   "outputs": [],
   "source": []
  },
  {
   "cell_type": "code",
   "execution_count": null,
   "metadata": {},
   "outputs": [],
   "source": []
  },
  {
   "cell_type": "code",
   "execution_count": null,
   "metadata": {},
   "outputs": [],
   "source": []
  },
  {
   "cell_type": "code",
   "execution_count": null,
   "metadata": {},
   "outputs": [],
   "source": []
  },
  {
   "cell_type": "code",
   "execution_count": null,
   "metadata": {},
   "outputs": [],
   "source": []
  },
  {
   "cell_type": "code",
   "execution_count": null,
   "metadata": {},
   "outputs": [],
   "source": []
  },
  {
   "cell_type": "code",
   "execution_count": null,
   "metadata": {},
   "outputs": [],
   "source": []
  },
  {
   "cell_type": "code",
   "execution_count": null,
   "metadata": {},
   "outputs": [],
   "source": []
  },
  {
   "cell_type": "code",
   "execution_count": null,
   "metadata": {},
   "outputs": [],
   "source": []
  },
  {
   "cell_type": "code",
   "execution_count": null,
   "metadata": {},
   "outputs": [],
   "source": []
  },
  {
   "cell_type": "code",
   "execution_count": null,
   "metadata": {},
   "outputs": [],
   "source": []
  },
  {
   "cell_type": "code",
   "execution_count": null,
   "metadata": {},
   "outputs": [],
   "source": []
  },
  {
   "cell_type": "code",
   "execution_count": null,
   "metadata": {},
   "outputs": [],
   "source": []
  },
  {
   "cell_type": "code",
   "execution_count": null,
   "metadata": {},
   "outputs": [],
   "source": []
  },
  {
   "cell_type": "code",
   "execution_count": null,
   "metadata": {},
   "outputs": [],
   "source": []
  },
  {
   "cell_type": "code",
   "execution_count": null,
   "metadata": {},
   "outputs": [],
   "source": []
  },
  {
   "cell_type": "code",
   "execution_count": null,
   "metadata": {},
   "outputs": [],
   "source": []
  }
 ],
 "metadata": {
  "kernelspec": {
   "display_name": "Python 3",
   "language": "python",
   "name": "python3"
  },
  "language_info": {
   "codemirror_mode": {
    "name": "ipython",
    "version": 3
   },
   "file_extension": ".py",
   "mimetype": "text/x-python",
   "name": "python",
   "nbconvert_exporter": "python",
   "pygments_lexer": "ipython3",
   "version": "3.6.5"
  }
 },
 "nbformat": 4,
 "nbformat_minor": 2
}
